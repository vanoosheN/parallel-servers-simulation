{
 "cells": [
  {
   "cell_type": "code",
   "execution_count": 1,
   "metadata": {},
   "outputs": [],
   "source": [
    "#import \n",
    "import pandas as pd\n",
    "import numpy as np\n",
    "import matplotlib.pyplot as plt \n",
    "import random"
   ]
  },
  {
   "cell_type": "code",
   "execution_count": 2,
   "metadata": {},
   "outputs": [],
   "source": [
    "#fixed parameters\n",
    "#max capicity of queue\n",
    "c = 5\n",
    "\n",
    "#service time number range(Continuous uniform distribution)\n",
    "S1=15\n",
    "S2=25\n",
    "\n",
    "#Arrival time range(Continuous uniform distribution)\n",
    "A1=1\n",
    "A2=10\n",
    "\n",
    "#simulation duration\n",
    "T=720"
   ]
  },
  {
   "cell_type": "code",
   "execution_count": 3,
   "metadata": {},
   "outputs": [],
   "source": [
    "def find_free_server():\n",
    "    result=0\n",
    "    free_servers=[]\n",
    "    free_server=0\n",
    "    for i in range(S):\n",
    "        if status[i]==0:\n",
    "            free_servers.append(i)\n",
    "            result=1\n",
    "            \n",
    "    if result==1:\n",
    "        MIN=SVR[free_servers[0]]\n",
    "        free_server=free_servers[0]\n",
    "        for j in range(len(free_servers)):\n",
    "            if SVR[free_servers[j]]<MIN:\n",
    "                free_server=free_servers[j]\n",
    "  \n",
    "    return(result,free_server)"
   ]
  },
  {
   "cell_type": "code",
   "execution_count": 4,
   "metadata": {},
   "outputs": [],
   "source": [
    "def entery(c):\n",
    "    global MTOT\n",
    "    global FEL\n",
    "    global status\n",
    "    global SVR\n",
    "    global MRET\n",
    "    global Q\n",
    "    global ends\n",
    "\n",
    "    MTOT+=1\n",
    "    next_entery=[0,0]\n",
    "    next_entery[1]=np.random.uniform(A1,A2)+Tnow\n",
    "    next_entery[0]='0'\n",
    "    FEL.append(next_entery)\n",
    "\n",
    "    if Q<c:\n",
    "        server_status=[0,0]\n",
    "        server_status=find_free_server()\n",
    "        if server_status[0]==1:\n",
    "            i=server_status[1]\n",
    "            status[i]=1\n",
    "            ST=np.random.uniform(S1,S2)\n",
    "            ends[i].append(Tnow+ST)\n",
    "            SVR[i]+=ST\n",
    "            next_service=[0,0]\n",
    "            next_service[0]=i\n",
    "            next_service[1]=Tnow+ST\n",
    "            FEL.append(next_service)\n",
    "        else:\n",
    "            Q+=1\n",
    "            qeue.append(Tnow)\n",
    "    else:\n",
    "        MRET+=1"
   ]
  },
  {
   "cell_type": "code",
   "execution_count": 5,
   "metadata": {},
   "outputs": [],
   "source": [
    "def end_service(n,c):\n",
    "    global status\n",
    "    global Q\n",
    "    global SVR\n",
    "    global FEL\n",
    "    global TWT\n",
    "    global WT_table\n",
    "    global x\n",
    "    \n",
    "    if Q==0:\n",
    "        status[n]=0\n",
    "        \n",
    "    else:\n",
    "        if Tnow<T:\n",
    "            Q=Q-1\n",
    "            #Waiting time\n",
    "            WT=Tnow-qeue[0]\n",
    "            TWT+=WT\n",
    "            #elimnating time related to previous person in the qeue\n",
    "            qeue.remove(qeue[0])\n",
    "            ST=np.random.uniform(S1,S2)\n",
    "            ends[n].append(Tnow+ST)\n",
    "            SVR[n]+=ST\n",
    "            next_service=[0,0]\n",
    "            next_service[0]=n\n",
    "            next_service[1]=Tnow+ST\n",
    "            FEL.append(next_service)"
   ]
  },
  {
   "cell_type": "code",
   "execution_count": 6,
   "metadata": {},
   "outputs": [],
   "source": [
    "def search_FEL():\n",
    "    global Tnow\n",
    "    global FEL\n",
    "    iminentt=[0,100000]\n",
    "    \n",
    "    jj=0\n",
    "    for j in range(len(FEL)):\n",
    "        if FEL[j][1]<iminentt[1]:\n",
    "            iminentt=FEL[j].copy()\n",
    "            jj=j\n",
    "    Tnow=iminentt[1]\n",
    "    FEL[jj][1]=100000\n",
    "    return(iminentt)"
   ]
  },
  {
   "cell_type": "code",
   "execution_count": 7,
   "metadata": {
    "scrolled": true
   },
   "outputs": [
    {
     "name": "stdout",
     "output_type": "stream",
     "text": [
      "\n",
      "the simulation for 1  server finished!\n",
      "\n",
      "total number of customer=  139\n",
      "total number of rejected customers=  102\n",
      "total time of customers waiting=  3419.074241449246\n",
      "----------------------------------------------\n",
      "rejected customer % =  73.38129496402878\n",
      "each server working time % :\n",
      "    server  1 :  100.0  %\n",
      "mean server working time %=  100.0  %\n",
      "mean waiting time=  81.40652955831538\n",
      "\n",
      "        **************\n",
      "\n",
      "the simulation for 2  server finished!\n",
      "\n",
      "total number of customer=  136\n",
      "total number of rejected customers=  64\n",
      "total time of customers waiting=  3077.811399921199\n",
      "----------------------------------------------\n",
      "rejected customer % =  47.05882352941176\n",
      "each server working time % :\n",
      "    server  1 :  100.0  %\n",
      "    server  2 :  98.92772088706488  %\n",
      "mean server working time %=  99.46386044353244  %\n",
      "mean waiting time=  40.49751842001578\n",
      "\n",
      "        **************\n",
      "\n",
      "the simulation for 3  server finished!\n",
      "\n",
      "total number of customer=  131\n",
      "total number of rejected customers=  21\n",
      "total time of customers waiting=  2618.1891740216656\n",
      "----------------------------------------------\n",
      "rejected customer % =  16.030534351145036\n",
      "each server working time % :\n",
      "    server  1 :  100.0  %\n",
      "    server  2 :  99.50122674197969  %\n",
      "    server  3 :  98.87882801313029  %\n",
      "mean server working time %=  99.46001825170333  %\n",
      "mean waiting time=  22.966571701944435\n",
      "\n",
      "        **************\n",
      "\n",
      "the simulation for 4  server finished!\n",
      "\n",
      "total number of customer=  133\n",
      "total number of rejected customers=  0\n",
      "total time of customers waiting=  607.4264734078113\n",
      "----------------------------------------------\n",
      "rejected customer % =  0.0\n",
      "each server working time % :\n",
      "    server  1 :  93.04476883628024  %\n",
      "    server  2 :  92.75265268955513  %\n",
      "    server  3 :  90.33957204295653  %\n",
      "    server  4 :  91.76686173960248  %\n",
      "mean server working time %=  91.9759638270986  %\n",
      "mean waiting time=  4.567116341412115\n",
      "\n",
      "        **************\n",
      "\n",
      "the simulation for 5  server finished!\n",
      "\n",
      "total number of customer=  128\n",
      "total number of rejected customers=  0\n",
      "total time of customers waiting=  31.805111932451595\n",
      "----------------------------------------------\n",
      "rejected customer % =  0.0\n",
      "each server working time % :\n",
      "    server  1 :  67.94363610568922  %\n",
      "    server  2 :  70.06915773596761  %\n",
      "    server  3 :  68.12693444157281  %\n",
      "    server  4 :  68.09485939285734  %\n",
      "    server  5 :  69.28576587021304  %\n",
      "mean server working time %=  68.70407070926  %\n",
      "mean waiting time=  0.2484774369722781\n",
      "\n",
      "        **************\n",
      "\n",
      "the simulation for 6  server finished!\n",
      "\n",
      "total number of customer=  135\n",
      "total number of rejected customers=  0\n",
      "total time of customers waiting=  0.27450958004453696\n",
      "----------------------------------------------\n",
      "rejected customer % =  0.0\n",
      "each server working time % :\n",
      "    server  1 :  61.557853088066416  %\n",
      "    server  2 :  61.85350915588812  %\n",
      "    server  3 :  61.119287562865864  %\n",
      "    server  4 :  60.75826132004845  %\n",
      "    server  5 :  62.41454985638898  %\n",
      "    server  6 :  61.20791570496677  %\n",
      "mean server working time %=  61.48522944803744  %\n",
      "mean waiting time=  0.0020334042966261997\n",
      "\n",
      "        **************\n"
     ]
    }
   ],
   "source": [
    "#variables for storing gegnerated information\n",
    "reject_p=[]\n",
    "Sworking_p=[]\n",
    "wait_p=[]\n",
    "\n",
    "for S in range(1,7):\n",
    "    #random.seed(10)\n",
    "    ends=[[] for i in range(S)]\n",
    "    status=[0 for i in range(S)]\n",
    "    Tnow=0\n",
    "    MTOT=0\n",
    "    MRET=0\n",
    "    SVR=[0 for i in range(S)]\n",
    "    TWT=0\n",
    "    Q=0\n",
    "    qeue=[]\n",
    "    FEL=[['0',0]]\n",
    "    \n",
    "    #the main controller\n",
    "    iminent=[0,0]\n",
    "    while Tnow<T:\n",
    "        iminent=search_FEL()\n",
    "        if iminent[0]=='0':\n",
    "            if iminent[1]>=T:\n",
    "                continue\n",
    "            entery(c)\n",
    "        else:\n",
    "            n=iminent[0]\n",
    "            end_service(n,c)\n",
    "    else:\n",
    "        #customers who were in the qeue after simulatoin time(T) will be rejected and their waiting time in the qeue will add-\n",
    "        #-to total waiting time(TWT)\n",
    "        for ff in range(Q):\n",
    "            MRET+=1\n",
    "            WT=T-qeue[ff]\n",
    "            TWT+=WT\n",
    "            \n",
    "        print(\"\\nthe simulation for\",S,\" server finished!\\n\")\n",
    "        print(\"total number of customer= \",MTOT)\n",
    "        print(\"total number of rejected customers= \",MRET)\n",
    "        print(\"total time of customers waiting= \",TWT)\n",
    "        print(\"----------------------------------------------\")\n",
    "        print(\"rejected customer % = \",MRET/(MTOT)*100)\n",
    "        reject_p.append(MRET/MTOT*100)\n",
    "        print(\"each server working time % :\")\n",
    "        for k in range(len(ends)):\n",
    "            if not ends[k]==[]:\n",
    "                if ends[k][-1]>T:\n",
    "                    SVR[k]=SVR[k]-(ends[k][-1]-T)\n",
    "            print(\"    server \",k+1,\": \",SVR[k]/T*100,\" %\")\n",
    "        print(\"mean server working time %= \",sum(SVR)/T*100/len(SVR),\" %\")\n",
    "        Sworking_p.append(sum(SVR)/T*100/len(SVR))\n",
    "        print(\"mean waiting time= \",TWT/(MTOT-MRET+len(qeue)))\n",
    "        wait_p.append(TWT/(MTOT-MRET+len(qeue)))\n",
    "        print(\"\\n        **************\")"
   ]
  },
  {
   "cell_type": "code",
   "execution_count": 13,
   "metadata": {},
   "outputs": [
    {
     "data": {
      "text/plain": [
       "Text(0, 0.5, 'average WT (p)')"
      ]
     },
     "execution_count": 13,
     "metadata": {},
     "output_type": "execute_result"
    },
    {
     "data": {
      "image/png": "[encoded data removed]",
      "text/plain": [
       "<Figure size 432x288 with 3 Axes>"
      ]
     },
     "metadata": {
      "needs_background": "light"
     },
     "output_type": "display_data"
    }
   ],
   "source": [
    "SS=np.array([i+1 for i in range(6)])\n",
    "plot1=plt.subplot2grid((14,14),(0,0),rowspan=4,colspan=4)\n",
    "plot2=plt.subplot2grid((14,14),(0,7),rowspan=4,colspan=4)\n",
    "plot3=plt.subplot2grid((14,14),(8,3),rowspan=4,colspan=4)\n",
    "plot1.plot(SS,Sworking_p)\n",
    "plot1.set_title(\"average service time\")\n",
    "plot1.set_xlabel(\"number of servers\")\n",
    "plot1.set_ylabel(\"service time (p)\")\n",
    "plot2.plot(SS,reject_p)\n",
    "plot2.set_title(\"number of rejected customers\")\n",
    "plot2.set_xlabel(\"number of servers\")\n",
    "plot2.set_ylabel(\"rejected (p)\")\n",
    "plot3.plot(SS,wait_p)\n",
    "plot3.set_title(\"average waiting time\")\n",
    "plot3.set_xlabel(\"number of servers\")\n",
    "plot3.set_ylabel(\"average WT (p)\")"
   ]
  },
  {
   "cell_type": "code",
   "execution_count": 14,
   "metadata": {},
   "outputs": [
    {
     "data": {
      "text/plain": [
       "Text(0, 0.5, 'objective function')"
      ]
     },
     "execution_count": 14,
     "metadata": {},
     "output_type": "execute_result"
    },
    {
     "data": {
      "image/png": "[encoded data removed]",
      "text/plain": [
       "<Figure size 432x288 with 1 Axes>"
      ]
     },
     "metadata": {
      "needs_background": "light"
     },
     "output_type": "display_data"
    }
   ],
   "source": [
    "min_wait=min(wait_p)\n",
    "max_wait=max(wait_p)\n",
    "rangewait=max_wait-min_wait\n",
    "scaled_wait=[((wait_p[i]-min_wait)/rangewait) for  i in range(len(wait_p))]\n",
    "min_Sworking=min(Sworking_p)\n",
    "max_Sworking=max(Sworking_p)\n",
    "rangeSworking=max_Sworking-min_Sworking\n",
    "scaled_Sworking=[((Sworking_p[i]-min_Sworking)/rangeSworking) for  i in range(len(Sworking_p))]\n",
    "min_reject=min(reject_p)\n",
    "max_reject=max(reject_p)\n",
    "rangereject=max_reject-min_reject\n",
    "scaled_reject=[((reject_p[i]-min_reject)/rangereject) for  i in range(len(reject_p))]\n",
    "scaled_reject=[((reject_p[i]-min_reject)/rangereject) for  i in range(len(reject_p))]\n",
    "RESULT=[scaled_Sworking[i]-scaled_reject[i]-scaled_wait[i] for i in range(len(SS))]\n",
    "plotRESULT=plt.subplot2grid((10,10),(1,1),rowspan=8,colspan=8)\n",
    "plotRESULT.plot(SS,RESULT)\n",
    "plotRESULT.set_title(\"final result\")\n",
    "plotRESULT.set_xlabel(\"number of servers\")\n",
    "plotRESULT.set_ylabel(\"objective function\")"
   ]
  },
  {
   "cell_type": "code",
   "execution_count": 15,
   "metadata": {},
   "outputs": [
    {
     "name": "stdout",
     "output_type": "stream",
     "text": [
      "Final Objective function amount is:\n"
     ]
    },
    {
     "data": {
      "text/plain": [
       "[-1.0,\n",
       " -0.15267222659735058,\n",
       " 0.4854205048116451,\n",
       " 0.73558440208567,\n",
       " 0.18440306184355132,\n",
       " 0.0]"
      ]
     },
     "execution_count": 15,
     "metadata": {},
     "output_type": "execute_result"
    }
   ],
   "source": [
    "print(\"Final Objective function amount is:\")\n",
    "RESULT"
   ]
  },
  {
   "cell_type": "code",
   "execution_count": 17,
   "metadata": {},
   "outputs": [
    {
     "name": "stdout",
     "output_type": "stream",
     "text": [
      "the optimal number of servers:  4\n"
     ]
    }
   ],
   "source": [
    "index=RESULT.index(max(RESULT))\n",
    "print(\"the optimal number of servers: \",index+1)"
   ]
  },
  {
   "cell_type": "code",
   "execution_count": null,
   "metadata": {},
   "outputs": [],
   "source": []
  },
  {
   "cell_type": "code",
   "execution_count": null,
   "metadata": {},
   "outputs": [],
   "source": []
  }
 ],
 "metadata": {
  "kernelspec": {
   "display_name": "Python 3",
   "language": "python",
   "name": "python3"
  },
  "language_info": {
   "codemirror_mode": {
    "name": "ipython",
    "version": 3
   },
   "file_extension": ".py",
   "mimetype": "text/x-python",
   "name": "python",
   "nbconvert_exporter": "python",
   "pygments_lexer": "ipython3",
   "version": "3.7.1"
  }
 },
 "nbformat": 4,
 "nbformat_minor": 2
}
